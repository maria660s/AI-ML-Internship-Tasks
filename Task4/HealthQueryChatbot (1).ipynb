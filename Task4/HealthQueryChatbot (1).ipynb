{
 "cells": [
  {
   "cell_type": "code",
   "execution_count": null,
   "metadata": {
    "colab": {
     "base_uri": "https://localhost:8080/",
     "height": 432,
     "referenced_widgets": [
      "f87a0cf3053449eab46f0f10cd52fc15",
      "816cacb9f8a64dfb95c0e7cdaca199a2",
      "f68f35b7b9c342aabca4aa8f50a91ed1",
      "de8be1397fca4763b9596045c8c72cfc",
      "62f4a8400e3046139518264bf9e843d2",
      "cac7f2db4e944119bf91ce6bb17978b2",
      "e9631f47f365410c820277755cca7464",
      "8d4de0c623d14c4690ec7507a2682ae4",
      "0f032d81fcf649beb90deec6fc970644",
      "dce8110cd7ab42cfbbfc684cc6290eaf",
      "f08edb52984441c089afa46f35a0a38c"
     ]
    },
    "executionInfo": {
     "elapsed": 3072699,
     "status": "ok",
     "timestamp": 1750887502580,
     "user": {
      "displayName": "Maria Samreen",
      "userId": "06562659678157549006"
     },
     "user_tz": -300
    },
    "id": "3TJXrynXyXyq",
    "outputId": "6c588fd6-9789-4528-f980-dea33b222d8c"
   },
   "outputs": [
    {
     "name": "stdout",
     "output_type": "stream",
     "text": [
      "Loading model (this may take a minute)...\n"
     ]
    },
    {
     "name": "stderr",
     "output_type": "stream",
     "text": [
      "/usr/local/lib/python3.11/dist-packages/huggingface_hub/utils/_auth.py:94: UserWarning: \n",
      "The secret `HF_TOKEN` does not exist in your Colab secrets.\n",
      "To authenticate with the Hugging Face Hub, create a token in your settings tab (https://huggingface.co/settings/tokens), set it as secret in your Google Colab and restart your session.\n",
      "You will be able to reuse this secret in all of your notebooks.\n",
      "Please note that authentication is recommended but still optional to access public models or datasets.\n",
      "  warnings.warn(\n"
     ]
    },
    {
     "data": {
      "application/vnd.jupyter.widget-view+json": {
       "model_id": "f87a0cf3053449eab46f0f10cd52fc15",
       "version_major": 2,
       "version_minor": 0
      },
      "text/plain": [
       "Loading checkpoint shards:   0%|          | 0/2 [00:00<?, ?it/s]"
      ]
     },
     "metadata": {},
     "output_type": "display_data"
    },
    {
     "name": "stderr",
     "output_type": "stream",
     "text": [
      "WARNING:accelerate.big_modeling:Some parameters are on the meta device because they were offloaded to the disk and cpu.\n",
      "Device set to use cpu\n"
     ]
    },
    {
     "name": "stdout",
     "output_type": "stream",
     "text": [
      "🩺 Health Chatbot — powered by Mistral-7B-Instruct\n",
      "Type 'exit' to quit.\n",
      "\n",
      "You: what causes a sore throat?\n"
     ]
    },
    {
     "name": "stderr",
     "output_type": "stream",
     "text": [
      "Setting `pad_token_id` to `eos_token_id`:2 for open-end generation.\n"
     ]
    },
    {
     "name": "stdout",
     "output_type": "stream",
     "text": [
      "Bot: A sore throat can be caused by a variety of factors such as viral infections like the common cold or flu, bacterial infections, tonsillitis, strep throat, or even by irritants like smoking or pollution. It's always a good idea to see a healthcare professional if your sore throat persists or is severe.\n",
      "\n",
      "You: How much paracetamol should I give a child?\n",
      "Bot: I'm sorry, I can't give specific medical or dosage advice. Please consult a doctor.\n",
      "You: exit\n",
      "Bot: Stay safe and consult a doctor for any medical concerns.\n"
     ]
    }
   ],
   "source": [
    "from transformers import AutoTokenizer, AutoModelForCausalLM, pipeline\n",
    "from huggingface_hub import login\n",
    "import torch\n",
    "\n",
    "# Step 1: Login to Hugging Face\n",
    "HUGGINGFACE_TOKEN = \"HF-Token\"  # 🔒 Replace with your actual token\n",
    "login(token=HUGGINGFACE_TOKEN)\n",
    "\n",
    "# Step 2: Load tokenizer and model\n",
    "model_name = \"mistralai/Mistral-7B-Instruct-v0.1\"\n",
    "\n",
    "print(\"Loading model (this may take a minute)...\")\n",
    "tokenizer = AutoTokenizer.from_pretrained(model_name, token=HUGGINGFACE_TOKEN)\n",
    "model = AutoModelForCausalLM.from_pretrained(\n",
    "    model_name,\n",
    "    token=HUGGINGFACE_TOKEN,\n",
    "    torch_dtype=torch.float16,\n",
    "    device_map=\"auto\"\n",
    ")\n",
    "\n",
    "# Step 3: Create generation pipeline\n",
    "chatbot = pipeline(\"text-generation\", model=model, tokenizer=tokenizer)\n",
    "\n",
    "# Step 4: Prompt engineering\n",
    "def generate_prompt(user_question):\n",
    "    return (\n",
    "        f\"You are a friendly and cautious medical assistant. \"\n",
    "        f\"Provide clear, general health information. \"\n",
    "        f\"Never offer diagnoses or medical treatments. \"\n",
    "        f\"Question: \\\"{user_question}\\\"\\n\"\n",
    "        f\"Answer:\"\n",
    "    )\n",
    "\n",
    "# Step 5: Basic safety filter\n",
    "def is_safe_question(question):\n",
    "    unsafe_keywords = [\n",
    "        \"dosage\", \"how much\", \"prescribe\", \"take\", \"treat\", \"cure\", \"medicine for\",\n",
    "        \"should I take\", \"can I take\", \"pill\", \"tablet\", \"capsule\", \"mg\", \"ml\", \"injection\"\n",
    "    ]\n",
    "    return not any(keyword.lower() in question.lower() for keyword in unsafe_keywords)\n",
    "\n",
    "# Step 6: Chat interface\n",
    "def health_chatbot():\n",
    "    print(\"🩺 Health Chatbot — powered by Mistral-7B-Instruct\")\n",
    "    print(\"Type 'exit' to quit.\\n\")\n",
    "    while True:\n",
    "        user_input = input(\"You: \")\n",
    "        if user_input.lower() == \"exit\":\n",
    "            print(\"Bot: Stay safe and consult a doctor for any medical concerns.\")\n",
    "            break\n",
    "\n",
    "        if not is_safe_question(user_input):\n",
    "            print(\"Bot: I'm sorry, I can't give specific medical or dosage advice. Please consult a doctor.\")\n",
    "            continue\n",
    "\n",
    "        prompt = generate_prompt(user_input)\n",
    "        response = chatbot(prompt, max_new_tokens=100, temperature=0.7, do_sample=True)[0][\"generated_text\"]\n",
    "\n",
    "        # Extract and clean the answer\n",
    "        answer = response.split(\"Answer:\")[-1].strip()\n",
    "        print(f\"Bot: {answer}\\n\")\n",
    "\n",
    "# Run the chatbot\n",
    "health_chatbot()\n"
   ]
  }
 ],
 "metadata": {
  "colab": {
   "authorship_tag": "ABX9TyMUUZKOBdVuW4c1lbvoBMhu",
   "provenance": []
  },
  "kernelspec": {
   "display_name": "Python [conda env:base] *",
   "language": "python",
   "name": "conda-base-py"
  },
  "language_info": {
   "codemirror_mode": {
    "name": "ipython",
    "version": 3
   },
   "file_extension": ".py",
   "mimetype": "text/x-python",
   "name": "python",
   "nbconvert_exporter": "python",
   "pygments_lexer": "ipython3",
   "version": "3.12.7"
  },
  "widgets": {
   "application/vnd.jupyter.widget-state+json": {
    "0f032d81fcf649beb90deec6fc970644": {
     "model_module": "@jupyter-widgets/controls",
     "model_module_version": "1.5.0",
     "model_name": "ProgressStyleModel",
     "state": {
      "_model_module": "@jupyter-widgets/controls",
      "_model_module_version": "1.5.0",
      "_model_name": "ProgressStyleModel",
      "_view_count": null,
      "_view_module": "@jupyter-widgets/base",
      "_view_module_version": "1.2.0",
      "_view_name": "StyleView",
      "bar_color": null,
      "description_width": ""
     }
    },
    "62f4a8400e3046139518264bf9e843d2": {
     "model_module": "@jupyter-widgets/base",
     "model_module_version": "1.2.0",
     "model_name": "LayoutModel",
     "state": {
      "_model_module": "@jupyter-widgets/base",
      "_model_module_version": "1.2.0",
      "_model_name": "LayoutModel",
      "_view_count": null,
      "_view_module": "@jupyter-widgets/base",
      "_view_module_version": "1.2.0",
      "_view_name": "LayoutView",
      "align_content": null,
      "align_items": null,
      "align_self": null,
      "border": null,
      "bottom": null,
      "display": null,
      "flex": null,
      "flex_flow": null,
      "grid_area": null,
      "grid_auto_columns": null,
      "grid_auto_flow": null,
      "grid_auto_rows": null,
      "grid_column": null,
      "grid_gap": null,
      "grid_row": null,
      "grid_template_areas": null,
      "grid_template_columns": null,
      "grid_template_rows": null,
      "height": null,
      "justify_content": null,
      "justify_items": null,
      "left": null,
      "margin": null,
      "max_height": null,
      "max_width": null,
      "min_height": null,
      "min_width": null,
      "object_fit": null,
      "object_position": null,
      "order": null,
      "overflow": null,
      "overflow_x": null,
      "overflow_y": null,
      "padding": null,
      "right": null,
      "top": null,
      "visibility": null,
      "width": null
     }
    },
    "816cacb9f8a64dfb95c0e7cdaca199a2": {
     "model_module": "@jupyter-widgets/controls",
     "model_module_version": "1.5.0",
     "model_name": "HTMLModel",
     "state": {
      "_dom_classes": [],
      "_model_module": "@jupyter-widgets/controls",
      "_model_module_version": "1.5.0",
      "_model_name": "HTMLModel",
      "_view_count": null,
      "_view_module": "@jupyter-widgets/controls",
      "_view_module_version": "1.5.0",
      "_view_name": "HTMLView",
      "description": "",
      "description_tooltip": null,
      "layout": "IPY_MODEL_cac7f2db4e944119bf91ce6bb17978b2",
      "placeholder": "​",
      "style": "IPY_MODEL_e9631f47f365410c820277755cca7464",
      "value": "Loading checkpoint shards: 100%"
     }
    },
    "8d4de0c623d14c4690ec7507a2682ae4": {
     "model_module": "@jupyter-widgets/base",
     "model_module_version": "1.2.0",
     "model_name": "LayoutModel",
     "state": {
      "_model_module": "@jupyter-widgets/base",
      "_model_module_version": "1.2.0",
      "_model_name": "LayoutModel",
      "_view_count": null,
      "_view_module": "@jupyter-widgets/base",
      "_view_module_version": "1.2.0",
      "_view_name": "LayoutView",
      "align_content": null,
      "align_items": null,
      "align_self": null,
      "border": null,
      "bottom": null,
      "display": null,
      "flex": null,
      "flex_flow": null,
      "grid_area": null,
      "grid_auto_columns": null,
      "grid_auto_flow": null,
      "grid_auto_rows": null,
      "grid_column": null,
      "grid_gap": null,
      "grid_row": null,
      "grid_template_areas": null,
      "grid_template_columns": null,
      "grid_template_rows": null,
      "height": null,
      "justify_content": null,
      "justify_items": null,
      "left": null,
      "margin": null,
      "max_height": null,
      "max_width": null,
      "min_height": null,
      "min_width": null,
      "object_fit": null,
      "object_position": null,
      "order": null,
      "overflow": null,
      "overflow_x": null,
      "overflow_y": null,
      "padding": null,
      "right": null,
      "top": null,
      "visibility": null,
      "width": null
     }
    },
    "cac7f2db4e944119bf91ce6bb17978b2": {
     "model_module": "@jupyter-widgets/base",
     "model_module_version": "1.2.0",
     "model_name": "LayoutModel",
     "state": {
      "_model_module": "@jupyter-widgets/base",
      "_model_module_version": "1.2.0",
      "_model_name": "LayoutModel",
      "_view_count": null,
      "_view_module": "@jupyter-widgets/base",
      "_view_module_version": "1.2.0",
      "_view_name": "LayoutView",
      "align_content": null,
      "align_items": null,
      "align_self": null,
      "border": null,
      "bottom": null,
      "display": null,
      "flex": null,
      "flex_flow": null,
      "grid_area": null,
      "grid_auto_columns": null,
      "grid_auto_flow": null,
      "grid_auto_rows": null,
      "grid_column": null,
      "grid_gap": null,
      "grid_row": null,
      "grid_template_areas": null,
      "grid_template_columns": null,
      "grid_template_rows": null,
      "height": null,
      "justify_content": null,
      "justify_items": null,
      "left": null,
      "margin": null,
      "max_height": null,
      "max_width": null,
      "min_height": null,
      "min_width": null,
      "object_fit": null,
      "object_position": null,
      "order": null,
      "overflow": null,
      "overflow_x": null,
      "overflow_y": null,
      "padding": null,
      "right": null,
      "top": null,
      "visibility": null,
      "width": null
     }
    },
    "dce8110cd7ab42cfbbfc684cc6290eaf": {
     "model_module": "@jupyter-widgets/base",
     "model_module_version": "1.2.0",
     "model_name": "LayoutModel",
     "state": {
      "_model_module": "@jupyter-widgets/base",
      "_model_module_version": "1.2.0",
      "_model_name": "LayoutModel",
      "_view_count": null,
      "_view_module": "@jupyter-widgets/base",
      "_view_module_version": "1.2.0",
      "_view_name": "LayoutView",
      "align_content": null,
      "align_items": null,
      "align_self": null,
      "border": null,
      "bottom": null,
      "display": null,
      "flex": null,
      "flex_flow": null,
      "grid_area": null,
      "grid_auto_columns": null,
      "grid_auto_flow": null,
      "grid_auto_rows": null,
      "grid_column": null,
      "grid_gap": null,
      "grid_row": null,
      "grid_template_areas": null,
      "grid_template_columns": null,
      "grid_template_rows": null,
      "height": null,
      "justify_content": null,
      "justify_items": null,
      "left": null,
      "margin": null,
      "max_height": null,
      "max_width": null,
      "min_height": null,
      "min_width": null,
      "object_fit": null,
      "object_position": null,
      "order": null,
      "overflow": null,
      "overflow_x": null,
      "overflow_y": null,
      "padding": null,
      "right": null,
      "top": null,
      "visibility": null,
      "width": null
     }
    },
    "de8be1397fca4763b9596045c8c72cfc": {
     "model_module": "@jupyter-widgets/controls",
     "model_module_version": "1.5.0",
     "model_name": "HTMLModel",
     "state": {
      "_dom_classes": [],
      "_model_module": "@jupyter-widgets/controls",
      "_model_module_version": "1.5.0",
      "_model_name": "HTMLModel",
      "_view_count": null,
      "_view_module": "@jupyter-widgets/controls",
      "_view_module_version": "1.5.0",
      "_view_name": "HTMLView",
      "description": "",
      "description_tooltip": null,
      "layout": "IPY_MODEL_dce8110cd7ab42cfbbfc684cc6290eaf",
      "placeholder": "​",
      "style": "IPY_MODEL_f08edb52984441c089afa46f35a0a38c",
      "value": " 2/2 [00:54&lt;00:00, 55.00s/it]"
     }
    },
    "e9631f47f365410c820277755cca7464": {
     "model_module": "@jupyter-widgets/controls",
     "model_module_version": "1.5.0",
     "model_name": "DescriptionStyleModel",
     "state": {
      "_model_module": "@jupyter-widgets/controls",
      "_model_module_version": "1.5.0",
      "_model_name": "DescriptionStyleModel",
      "_view_count": null,
      "_view_module": "@jupyter-widgets/base",
      "_view_module_version": "1.2.0",
      "_view_name": "StyleView",
      "description_width": ""
     }
    },
    "f08edb52984441c089afa46f35a0a38c": {
     "model_module": "@jupyter-widgets/controls",
     "model_module_version": "1.5.0",
     "model_name": "DescriptionStyleModel",
     "state": {
      "_model_module": "@jupyter-widgets/controls",
      "_model_module_version": "1.5.0",
      "_model_name": "DescriptionStyleModel",
      "_view_count": null,
      "_view_module": "@jupyter-widgets/base",
      "_view_module_version": "1.2.0",
      "_view_name": "StyleView",
      "description_width": ""
     }
    },
    "f68f35b7b9c342aabca4aa8f50a91ed1": {
     "model_module": "@jupyter-widgets/controls",
     "model_module_version": "1.5.0",
     "model_name": "FloatProgressModel",
     "state": {
      "_dom_classes": [],
      "_model_module": "@jupyter-widgets/controls",
      "_model_module_version": "1.5.0",
      "_model_name": "FloatProgressModel",
      "_view_count": null,
      "_view_module": "@jupyter-widgets/controls",
      "_view_module_version": "1.5.0",
      "_view_name": "ProgressView",
      "bar_style": "success",
      "description": "",
      "description_tooltip": null,
      "layout": "IPY_MODEL_8d4de0c623d14c4690ec7507a2682ae4",
      "max": 2,
      "min": 0,
      "orientation": "horizontal",
      "style": "IPY_MODEL_0f032d81fcf649beb90deec6fc970644",
      "value": 2
     }
    },
    "f87a0cf3053449eab46f0f10cd52fc15": {
     "model_module": "@jupyter-widgets/controls",
     "model_module_version": "1.5.0",
     "model_name": "HBoxModel",
     "state": {
      "_dom_classes": [],
      "_model_module": "@jupyter-widgets/controls",
      "_model_module_version": "1.5.0",
      "_model_name": "HBoxModel",
      "_view_count": null,
      "_view_module": "@jupyter-widgets/controls",
      "_view_module_version": "1.5.0",
      "_view_name": "HBoxView",
      "box_style": "",
      "children": [
       "IPY_MODEL_816cacb9f8a64dfb95c0e7cdaca199a2",
       "IPY_MODEL_f68f35b7b9c342aabca4aa8f50a91ed1",
       "IPY_MODEL_de8be1397fca4763b9596045c8c72cfc"
      ],
      "layout": "IPY_MODEL_62f4a8400e3046139518264bf9e843d2"
     }
    }
   }
  }
 },
 "nbformat": 4,
 "nbformat_minor": 4
}
